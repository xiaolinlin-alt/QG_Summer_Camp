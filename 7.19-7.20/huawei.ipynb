{
 "cells": [
  {
   "cell_type": "code",
   "id": "initial_id",
   "metadata": {
    "collapsed": true,
    "ExecuteTime": {
     "end_time": "2025-07-20T11:45:30.753239Z",
     "start_time": "2025-07-20T11:45:26.342915Z"
    }
   },
   "source": [
    "from download import download\n",
    "from rope.base.pycore import perform_soa_on_changed_scopes\n",
    "\n",
    "url = \"https://mindspore-website.obs.cn-north-4.myhuaweicloud.com/\" \\\n",
    "      \"notebook/datasets/MNIST_Data.zip\"\n",
    "path = download(url, \"./\", kind=\"zip\", replace=True)"
   ],
   "outputs": [
    {
     "name": "stdout",
     "output_type": "stream",
     "text": [
      "Downloading data from https://mindspore-website.obs.cn-north-4.myhuaweicloud.com/notebook/datasets/MNIST_Data.zip (10.3 MB)\n",
      "\n",
      "file_sizes: 100%|██████████████████████████| 10.8M/10.8M [00:02<00:00, 4.42MB/s]\n",
      "Extracting zip file...\n",
      "Successfully downloaded / unzipped to ./\n"
     ]
    }
   ],
   "execution_count": 1
  },
  {
   "metadata": {
    "ExecuteTime": {
     "end_time": "2025-07-20T11:58:17.337931Z",
     "start_time": "2025-07-20T11:58:17.332935Z"
    }
   },
   "cell_type": "code",
   "source": [
    "import mindspore\n",
    "from mindspore import nn\n",
    "from mindspore.dataset import vision,transforms\n",
    "from mindspore.dataset import MnistDataset"
   ],
   "id": "8a6ab13cb006e0ba",
   "outputs": [],
   "execution_count": 5
  },
  {
   "metadata": {
    "ExecuteTime": {
     "end_time": "2025-07-20T12:01:07.989813Z",
     "start_time": "2025-07-20T12:01:07.983813Z"
    }
   },
   "cell_type": "code",
   "source": [
    "def datapipe(dataset,batch_size):\n",
    "    image_transorms=[\n",
    "        vision.Rescale(1.0/255.0,0),\n",
    "        vision.Normalize([0.1307],[0.3081]),\n",
    "        vision.HWC2CHW()\n",
    "    ]\n",
    "    label_transforms=transforms.TypeCast(mindspore.int32)\n",
    "    dataset=dataset.map(input_columns=\"image\",operations=image_transorms)\n",
    "    dataset=dataset.map(input_columns=\"label\",operations=label_transforms)\n",
    "    dataset=dataset.batch(batch_size,drop_remainder=True)\n",
    "    return dataset\n",
    "train_dataset=MnistDataset(path+\"/MNIST_Data/train\",num_parallel_workers=8)\n",
    "test_dataset=MnistDataset(path+\"/MNIST_Data/test\",num_parallel_workers=8)\n",
    "train_dataset=datapipe(train_dataset,64)\n",
    "test_dataset=datapipe(test_dataset,64)"
   ],
   "id": "bb514e3b90c6de46",
   "outputs": [],
   "execution_count": 10
  },
  {
   "metadata": {
    "ExecuteTime": {
     "end_time": "2025-07-20T12:01:32.322113Z",
     "start_time": "2025-07-20T12:01:32.284058Z"
    }
   },
   "cell_type": "code",
   "source": [
    "for image,label in test_dataset.create_tuple_iterator():\n",
    "    print(f\"shape of image [N,C,H,W]:{image.shape} {image.dtype}\")\n",
    "    print(f\"shape of label [N]:{label.shape} {label.dtype}\")\n",
    "    break"
   ],
   "id": "20a9a7c6c5df4b3",
   "outputs": [
    {
     "name": "stdout",
     "output_type": "stream",
     "text": [
      "shape of image [N,C,H,W]:(64, 1, 28, 28) Float32\n",
      "shape of label [N]:(64,) Int32\n"
     ]
    }
   ],
   "execution_count": 11
  },
  {
   "metadata": {
    "ExecuteTime": {
     "end_time": "2025-07-20T12:03:44.642155Z",
     "start_time": "2025-07-20T12:03:44.608641Z"
    }
   },
   "cell_type": "code",
   "source": [
    "for data in test_dataset.create_dict_iterator():\n",
    "    print(f\"shape of image [N,C,H,W]:{data['image'].shape} {data['image'].dtype}\")\n",
    "    print(f\"shape of label [N]:{data['label'].shape} {data['label'].dtype}\")\n",
    "    break"
   ],
   "id": "695359aa22b77032",
   "outputs": [
    {
     "name": "stdout",
     "output_type": "stream",
     "text": [
      "shape of image [N,C,H,W]:(64, 1, 28, 28) Float32\n",
      "shape of label [N]:(64,) Int32\n"
     ]
    }
   ],
   "execution_count": 14
  },
  {
   "metadata": {
    "ExecuteTime": {
     "end_time": "2025-07-20T12:08:04.226495Z",
     "start_time": "2025-07-20T12:08:04.206397Z"
    }
   },
   "cell_type": "code",
   "source": [
    "class Network(nn.Cell):\n",
    "    def __init__(self):\n",
    "        super().__init__()\n",
    "        self.flatten=nn.Flatten()\n",
    "        self.dense_relu_sequential=nn.SequentialCell(\n",
    "            nn.Dense(784,128),\n",
    "            nn.ReLU(),\n",
    "            nn.Dense(128,128),\n",
    "            nn.ReLU(),\n",
    "            nn.Dense(128,10)\n",
    "        )\n",
    "    def construct(self,x):\n",
    "        x=self.flatten(x)\n",
    "        logits=self.dense_relu_sequential(x)\n",
    "        return logits\n",
    "\n",
    "model=Network()\n",
    "print(model)"
   ],
   "id": "b27615e8f8a96be5",
   "outputs": [
    {
     "name": "stdout",
     "output_type": "stream",
     "text": [
      "Network(\n",
      "  (flatten): Flatten()\n",
      "  (dense_relu_sequential): SequentialCell(\n",
      "    (0): Dense(input_channels=784, output_channels=128, has_bias=True)\n",
      "    (1): ReLU()\n",
      "    (2): Dense(input_channels=128, output_channels=128, has_bias=True)\n",
      "    (3): ReLU()\n",
      "    (4): Dense(input_channels=128, output_channels=10, has_bias=True)\n",
      "  )\n",
      ")\n"
     ]
    }
   ],
   "execution_count": 19
  },
  {
   "metadata": {
    "ExecuteTime": {
     "end_time": "2025-07-20T12:17:51.221118Z",
     "start_time": "2025-07-20T12:17:51.210121Z"
    }
   },
   "cell_type": "code",
   "source": [
    "loss_fn=nn.CrossEntropyLoss()\n",
    "optimizer=nn.SGD(model.trainable_params(),1e-3)\n",
    "\n",
    "def forward_fn(data,label):\n",
    "    logits=model(data)\n",
    "    loss=loss_fn(logits,label)\n",
    "    return loss,logits\n",
    "gard_fn=mindspore.value_and_grad(forward_fn,None,optimizer.parameters,has_aux=True)\n",
    "\n",
    "def train_step(data,label):\n",
    "    (loss,_),grads=gard_fn(data,label)\n",
    "    optimizer(grads)\n",
    "    return loss\n",
    "def train(model,dataset):\n",
    "    size=dataset.get_dataset_size()\n",
    "    model.set_train()\n",
    "    for batch,(data,label) in enumerate(dataset.create_tuple_iterator()):\n",
    "        loss=train_step(data,label)\n",
    "\n",
    "        if batch%100==0:\n",
    "            loss,current=loss.asnumpy(),batch\n",
    "            print(f\"loss:{loss:>7f}  [{current:>5d}/{size:>5d}]\")"
   ],
   "id": "e123ea89796ddcdd",
   "outputs": [],
   "execution_count": 23
  },
  {
   "metadata": {
    "ExecuteTime": {
     "end_time": "2025-07-20T12:20:31.131430Z",
     "start_time": "2025-07-20T12:20:31.126426Z"
    }
   },
   "cell_type": "code",
   "source": [
    "def test(model,dataset,loss_fn):\n",
    "    num_batches=dataset.get_dataset_size()\n",
    "    model.set_train(False)\n",
    "    total,test_loss,correct=0,0,0\n",
    "    for data,label in dataset.create_tuple_iterator():\n",
    "        pred=model(data)\n",
    "        total+=len(data)\n",
    "        test_loss+=loss_fn(pred,label).asnumpy()\n",
    "        correct+=(pred.argmax(1)==label).asnumpy().sum()\n",
    "    test_loss/=num_batches\n",
    "    accuracy=correct/total\n",
    "    print(f\"Test Error: \\n Accuracy: {(100*accuracy):>0.1f}%, Avg loss: {test_loss:>8f} \\n\")"
   ],
   "id": "fd6b382d1cd07127",
   "outputs": [],
   "execution_count": 24
  },
  {
   "metadata": {
    "ExecuteTime": {
     "end_time": "2025-07-20T12:22:27.832268Z",
     "start_time": "2025-07-20T12:21:55.296411Z"
    }
   },
   "cell_type": "code",
   "source": [
    "epochs=3\n",
    "for t in range(epochs):\n",
    "    print(f\"Epoch {t+1}\\n-------------------------------\")\n",
    "    train(model,train_dataset)\n",
    "    test(model,test_dataset,loss_fn)\n",
    "print(\"Done!\")"
   ],
   "id": "a63d8e369707346",
   "outputs": [
    {
     "name": "stdout",
     "output_type": "stream",
     "text": [
      "Epoch 1\n",
      "-------------------------------\n",
      "loss:2.313232  [    0/  937]\n",
      "loss:2.294349  [  100/  937]\n",
      "loss:2.258330  [  200/  937]\n",
      "loss:2.217244  [  300/  937]\n",
      "loss:2.209415  [  400/  937]\n",
      "loss:2.156688  [  500/  937]\n",
      "loss:2.127749  [  600/  937]\n",
      "loss:2.053791  [  700/  937]\n",
      "loss:1.922803  [  800/  937]\n",
      "loss:1.971449  [  900/  937]\n",
      "Test Error: \n",
      " Accuracy: 61.6%, Avg loss: 1.931067 \n",
      "\n",
      "Epoch 2\n",
      "-------------------------------\n",
      "loss:1.898625  [    0/  937]\n",
      "loss:1.824715  [  100/  937]\n",
      "loss:1.856957  [  200/  937]\n",
      "loss:1.802053  [  300/  937]\n",
      "loss:1.691110  [  400/  937]\n",
      "loss:1.603283  [  500/  937]\n",
      "loss:1.433689  [  600/  937]\n",
      "loss:1.275816  [  700/  937]\n",
      "loss:1.299370  [  800/  937]\n",
      "loss:1.263999  [  900/  937]\n",
      "Test Error: \n",
      " Accuracy: 78.2%, Avg loss: 1.168868 \n",
      "\n",
      "Epoch 3\n",
      "-------------------------------\n",
      "loss:1.091936  [    0/  937]\n",
      "loss:1.086840  [  100/  937]\n",
      "loss:1.123651  [  200/  937]\n",
      "loss:0.998243  [  300/  937]\n",
      "loss:0.867913  [  400/  937]\n",
      "loss:0.801303  [  500/  937]\n",
      "loss:0.829653  [  600/  937]\n",
      "loss:0.837059  [  700/  937]\n",
      "loss:0.845822  [  800/  937]\n",
      "loss:0.847612  [  900/  937]\n",
      "Test Error: \n",
      " Accuracy: 84.8%, Avg loss: 0.714281 \n",
      "\n",
      "Done!\n"
     ]
    }
   ],
   "execution_count": 25
  }
 ],
 "metadata": {
  "kernelspec": {
   "display_name": "Python 3",
   "language": "python",
   "name": "python3"
  },
  "language_info": {
   "codemirror_mode": {
    "name": "ipython",
    "version": 2
   },
   "file_extension": ".py",
   "mimetype": "text/x-python",
   "name": "python",
   "nbconvert_exporter": "python",
   "pygments_lexer": "ipython2",
   "version": "2.7.6"
  }
 },
 "nbformat": 4,
 "nbformat_minor": 5
}
