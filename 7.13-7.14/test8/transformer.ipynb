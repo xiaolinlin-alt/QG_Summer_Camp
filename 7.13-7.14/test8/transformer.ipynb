{
 "cells": [
  {
   "metadata": {
    "ExecuteTime": {
     "end_time": "2025-07-13T14:14:20.127414Z",
     "start_time": "2025-07-13T14:14:20.118558Z"
    }
   },
   "cell_type": "code",
   "source": [
    "from email.header import decode_header\n",
    "from math import sqrt\n",
    "import torch\n",
    "import torch.nn as nn\n",
    "import numpy as np\n",
    "import math\n",
    "\n",
    "from pkg_resources import require\n",
    "from torch.nn.functional import layer_norm"
   ],
   "id": "177d2bf3cedd258a",
   "outputs": [],
   "execution_count": 35
  },
  {
   "metadata": {
    "ExecuteTime": {
     "end_time": "2025-07-13T08:22:55.040630Z",
     "start_time": "2025-07-13T08:22:55.036177Z"
    }
   },
   "cell_type": "code",
   "source": [
    "\n",
    "class Config(object):\n",
    "    def __init__(self):\n",
    "        # 定义多头注意力机制的头数\n",
    "        self.num_heads=2\n",
    "        # 定义模型的维度\n",
    "        self.d_model=20\n",
    "\n",
    "        # 断言模型的维度可以被头数整除\n",
    "        assert self.d_model%self.num_heads==0\n",
    "\n",
    "        # 定义每个头的维度\n",
    "        self.d_k=self.d_model//self.num_heads\n",
    "        self.d_v=self.d_model//self.num_heads\n",
    "\n",
    "        # 定义词汇表的大小\n",
    "        self.vocab_size=6\n",
    "\n",
    "        # 定义填充的大小\n",
    "        self.padding_size=30\n",
    "        # 定义未知词的索引\n",
    "        self.UNK=5\n",
    "        # 定义填充词的索引\n",
    "        self.PAD=4\n",
    "\n",
    "        # 定义序列的长度\n",
    "        self.N=6\n",
    "        # 定义丢弃率\n",
    "        self.p=0.1\n",
    "config=Config()"
   ],
   "id": "8fbe42ad4ba65788",
   "outputs": [],
   "execution_count": 31
  },
  {
   "metadata": {
    "ExecuteTime": {
     "end_time": "2025-07-13T07:41:06.781146Z",
     "start_time": "2025-07-13T07:41:06.772677Z"
    }
   },
   "cell_type": "code",
   "outputs": [],
   "execution_count": 26,
   "source": [
    "#多头注意力机制\n",
    "class Multi_Head_Attention(nn.Module):\n",
    "    def __init__(self,d_model,d_k,d_v,num_heads):\n",
    "        super(Multi_Head_Attention,self).__init__()\n",
    "        self.num_heads=num_heads\n",
    "        self.d_k=d_k\n",
    "        self.d_v=d_v\n",
    "\n",
    "        assert d_k%num_heads==0 and d_v%num_heads==0#确保在使用多头注意力机制的时候，维度匹配\n",
    "\n",
    "        #线性投影层\n",
    "        self.q=nn.Linear(d_model,d_k)\n",
    "        self.k=nn.Linear(d_model,d_k)\n",
    "        self.v=nn.Linear(d_model,d_v)\n",
    "        #每个头的维度\n",
    "        self.head_d_k=d_k//num_heads\n",
    "        self.head_d_v=d_v//num_heads\n",
    "        #缩放因子\n",
    "        self.scale=1/sqrt(self.head_d_k)\n",
    "\n",
    "    def generate_mask(self,dim):\n",
    "        matrix=np.ones((dim,dim))\n",
    "        mask=torch.Tensor(np.tril(matrix))\n",
    "        return mask==1\n",
    "\n",
    "    def forward(self,x,y,require_mask=False):\n",
    "        batch_size,seq_len,_=x.shape\n",
    "        Q=self.q(x).view(batch_size,seq_len,self.num_heads,self.head_d_k).transpose(1,2)\n",
    "        K=self.k(x).view(batch_size,seq_len,self.num_heads,self.head_d_k).transpose(1,2)\n",
    "        V=self.v(x).view(batch_size,seq_len,self.num_heads,self.head_d_v).transpose(1,2)\n",
    "\n",
    "        scores=torch.matmul(Q,K.transpose(-1,-2))*self.scale\n",
    "        attention=nn.Softmax(dim=-1)(scores)\n",
    "\n",
    "        if require_mask:\n",
    "            mask=self.generate_mask(seq_len)\n",
    "            attention.mask_fill(mask,value=float(\"_inf\"))\n",
    "        output=torch.matmul(attention,V)\n",
    "        output=output.transpose(1,2).contiguous().view(batch_size,seq_len,self.d_v)\n",
    "\n",
    "        return output"
   ],
   "id": "2e756502e60c6499"
  },
  {
   "metadata": {},
   "cell_type": "code",
   "outputs": [],
   "execution_count": null,
   "source": "",
   "id": "a2d84b26167dfa19"
  },
  {
   "metadata": {
    "ExecuteTime": {
     "end_time": "2025-07-13T08:40:47.262884Z",
     "start_time": "2025-07-13T08:40:47.251209Z"
    }
   },
   "cell_type": "code",
   "source": [
    "class Embedding(nn.Module):\n",
    "    #将普通Embedding和位置编码结合\n",
    "    def __init__(self):\n",
    "        super(Embedding,self).__init__()\n",
    "        self.embedding=nn.Embedding(config.vocab_size,config.d_model,padding_idx=config.PAD)\n",
    "\n",
    "    def forward(self,x):\n",
    "        for i in range(self,x):\n",
    "            if len(x[i])<config.padding_size:\n",
    "                x[i].append([config.UNK]*(config.padding_size-len(x[i])))\n",
    "            else:\n",
    "                x[i]=x[i][:config.padding_size]\n",
    "\n",
    "        x=self.embedding(torch.tensor(x))\n",
    "        return x"
   ],
   "id": "9dac9b8241eb5e94",
   "outputs": [],
   "execution_count": 33
  },
  {
   "metadata": {
    "ExecuteTime": {
     "end_time": "2025-07-13T14:14:47.458569Z",
     "start_time": "2025-07-13T14:14:47.437961Z"
    }
   },
   "cell_type": "code",
   "source": [
    "class PositionEmbedding(nn.Module):\n",
    "    def __init__(self,d_model):\n",
    "        super(PositionEmbedding,self).__init__()\n",
    "        self.d_model=d_model\n",
    "\n",
    "    def forward(self,seq_len,embedding_dim):\n",
    "        positional_encoding=np.zeros((seq_len,embedding_dim))\n",
    "        for pos in range(positional_encoding.shape[0]):\n",
    "            for i in range(positional_encoding.shape[1]):\n",
    "                positional_encoding[pos][i]=math.sin(pos/(10000**(2*i/self.d_model))) if i%2==0 else math.cos(pos/(10000**(2*i/self.d_model)))\n",
    "        return torch.from_numpy(positional_encoding)"
   ],
   "id": "33519ef61e1b2754",
   "outputs": [],
   "execution_count": 36
  },
  {
   "metadata": {
    "ExecuteTime": {
     "end_time": "2025-07-13T14:24:10.162150Z",
     "start_time": "2025-07-13T14:24:10.147133Z"
    }
   },
   "cell_type": "code",
   "source": [
    "class Feed_Forward(nn.Module):\n",
    "    def __init__(self,input_dim,hidden_dim=2048):\n",
    "        super(Feed_Forward,self).__init__()\n",
    "        self.linear1=nn.Linear(input_dim,hidden_dim)\n",
    "        self.linear2=nn.Linear(hidden_dim,input_dim)\n",
    "\n",
    "    def forward(self,x):\n",
    "        output=nn.ReLU()(self.linear1(x))\n",
    "        output=self.linear2(output)\n",
    "        return output"
   ],
   "id": "91721874595a58c6",
   "outputs": [],
   "execution_count": 37
  },
  {
   "metadata": {
    "ExecuteTime": {
     "end_time": "2025-07-13T14:27:20.732844Z",
     "start_time": "2025-07-13T14:27:20.718300Z"
    }
   },
   "cell_type": "code",
   "source": [
    "class Add_Norm(nn.Module):\n",
    "    def __init__(self):\n",
    "        super(Add_Norm,self).__init__()\n",
    "\n",
    "    def forward(self,x,sublayer,**kwargs):\n",
    "        sub_output=sublayer(x,**kwargs)\n",
    "        x=self.dropout(x+sub_output)\n",
    "        layer_norm=nn.LayerNorm(x.size()[1:])\n",
    "        out=layer_norm(x)\n",
    "        return out"
   ],
   "id": "47cbf24423e1b063",
   "outputs": [],
   "execution_count": 38
  },
  {
   "metadata": {
    "ExecuteTime": {
     "end_time": "2025-07-13T14:33:31.211370Z",
     "start_time": "2025-07-13T14:33:31.189568Z"
    }
   },
   "cell_type": "code",
   "source": [
    "class Encoder(nn.Module):\n",
    "    def __init___(self):\n",
    "        super(Encoder,self).__init__()\n",
    "        self.positional_encoding=PositionEmbedding(config.d_model)\n",
    "        self.multi_head_attention=Multi_Head_Attention(config.d_model,config.d_k,config.d_v,config.num_heads)\n",
    "        self.feed_forward=Feed_Forward(config.d_model)\n",
    "        self.add_norm=Add_Norm()\n",
    "    def forward(self,x):\n",
    "        x+=self.positional_encoding(x.size()[1],config.d_model)\n",
    "        output=self.add_norm(x,self.multi_head_attention,y=x)\n",
    "        output=self.add_norm(output,self.feed_forward)\n",
    "        return output"
   ],
   "id": "44e3b45b9a6d293",
   "outputs": [],
   "execution_count": 39
  },
  {
   "metadata": {},
   "cell_type": "code",
   "outputs": [],
   "execution_count": null,
   "source": [
    "class Decode(nn.Module):\n",
    "    def __init__(self):\n",
    "        super(Decode,self).__init__()\n",
    "        self.positional_encoding=PositionEmbedding(config.d_model)\n",
    "        self.multi_head_attention=Multi_Head_Attention(config.d_model,config.d_k,config.d_v,config.num_heads)\n",
    "        self.feed_forward=Feed_Forward(config.d_model)\n",
    "        self.add_norm=Add_Norm()\n",
    "    def forward(self,x,encoder_output):\n",
    "        x+=self.positional_encoding(x.size()[1],config.d_model)\n",
    "        output=self.add_norm(x,self.multi_head_attention,y=x,require_mask=True)\n",
    "        output=self.add_norm(x,self.multi_head_attention,y=encoder_output,require_mask=False)\n",
    "        output=self.add_norm(output,self.feed_forward)\n",
    "        return output"
   ],
   "id": "8af988b35395eace"
  },
  {
   "metadata": {
    "ExecuteTime": {
     "end_time": "2025-07-13T14:44:17.540522Z",
     "start_time": "2025-07-13T14:44:17.534884Z"
    }
   },
   "cell_type": "code",
   "source": [
    "class Transformer_layers(nn.Module):\n",
    "    def __init__(self):\n",
    "        super(Transformer_layers,self).__init__()\n",
    "        self.encoder=Encoder()\n",
    "        self.decoder=Decode()\n",
    "    def forward(self,x):\n",
    "        x_input,x_output=x\n",
    "        encoder_output=self.encoder(x_input)\n",
    "        decoder_output=self.decoder(x_output,encoder_output)\n",
    "        return (encoder_output,decoder_output)\n",
    "\n",
    "class Transformer(nn.Module):\n",
    "    def __init__(self,N,vocab_size,output_dim):\n",
    "        super(Transformer,self).__init__()\n",
    "        self.embedding_input=Embedding(vocab_size=vocab_size)\n",
    "        self.embedding_output=Embedding(vocab_size=vocab_size)\n",
    "        self.output_dim=output_dim\n",
    "        self.linear=nn.Linear(config.d_model,output_dim)\n",
    "        self.softmax=nn.Softmax(dim=-1)\n",
    "        self.model=nn.Sequential(*[Transformer_layers() for _ in range(N)])\n",
    "    def forward(self,x):\n",
    "        x_input,x_output=x\n",
    "        x_input=self.embedding_input(x_input)\n",
    "        x_output=self.embedding_output(x_output)\n",
    "        _,output=self.model((x_input,x_output))\n",
    "        output=self.linear(output)\n",
    "        output=self.softmax(output)\n",
    "        return output"
   ],
   "id": "6685dfe2748b8d72",
   "outputs": [],
   "execution_count": 45
  }
 ],
 "metadata": {
  "kernelspec": {
   "display_name": "Python 3",
   "language": "python",
   "name": "python3"
  },
  "language_info": {
   "codemirror_mode": {
    "name": "ipython",
    "version": 2
   },
   "file_extension": ".py",
   "mimetype": "text/x-python",
   "name": "python",
   "nbconvert_exporter": "python",
   "pygments_lexer": "ipython2",
   "version": "2.7.6"
  }
 },
 "nbformat": 4,
 "nbformat_minor": 5
}
