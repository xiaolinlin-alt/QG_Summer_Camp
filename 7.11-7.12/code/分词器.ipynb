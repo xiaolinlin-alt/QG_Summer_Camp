{
 "cells": [
  {
   "cell_type": "code",
   "id": "initial_id",
   "metadata": {
    "collapsed": true,
    "ExecuteTime": {
     "end_time": "2025-07-12T06:54:15.341295Z",
     "start_time": "2025-07-12T06:54:14.035064Z"
    }
   },
   "source": [
    "from transformers import AutoTokenizer\n",
    "import matplotlib.pyplot as plt\n",
    "\n",
    "tokenizer_gpt2=AutoTokenizer.from_pretrained(\"gpt2\")"
   ],
   "outputs": [],
   "execution_count": 33
  },
  {
   "metadata": {
    "ExecuteTime": {
     "end_time": "2025-07-12T06:56:17.052959Z",
     "start_time": "2025-07-12T06:56:17.048703Z"
    }
   },
   "cell_type": "code",
   "source": [
    "#分词效果示例\n",
    "text_fr=\"À l'aube, le soleil doré se lève lentement, teintant la mer de tons orangés et rougeâtres. Des vagues blanches viennent doucement lécher le rivage sablonneux, tandis que des mouettes tournoient et crient dans la lumière matinale. Une brise marine fraîche, chargée d'une odeur de sel, effleure le visage, annonçant le début d'une nouvelle journée.\"\n",
    "text_en=\"At dawn, the golden sun rises slowly, painting the sea in shades of orange and red. White waves gently lap against the sandy shore, while seagulls circle and cry in the morning light. A fresh sea breeze carrying the scent of salt brushes against the face, marking the start of a new day.\"\n",
    "text_zh=\"黎明时分，金色的太阳缓缓升起，将海面染成一片橙红。白色的浪花轻轻拍打着沙滩，海鸥在晨光中盘旋鸣叫。清新的海风带着咸味拂过脸庞，新的一天开始了。\"\n",
    "\n",
    "text={\n",
    "    'fr':text_fr,\n",
    "    'en':text_en,\n",
    "    'zh':text_zh\n",
    "}\n",
    "\n",
    "re=tokenizer_gpt2.encode(text_en)\n",
    "print(re)"
   ],
   "id": "bede0eb00485a7a2",
   "outputs": [
    {
     "name": "stdout",
     "output_type": "stream",
     "text": [
      "[2953, 17577, 11, 262, 10861, 4252, 16736, 6364, 11, 12036, 262, 5417, 287, 23787, 286, 10912, 290, 2266, 13, 2635, 9813, 15165, 14779, 1028, 262, 44039, 15191, 11, 981, 384, 363, 724, 82, 9197, 290, 3960, 287, 262, 3329, 1657, 13, 317, 4713, 5417, 28633, 6872, 262, 21212, 286, 8268, 36377, 1028, 262, 1986, 11, 18730, 262, 923, 286, 257, 649, 1110, 13]\n"
     ]
    }
   ],
   "execution_count": 64
  },
  {
   "metadata": {
    "ExecuteTime": {
     "end_time": "2025-07-12T06:56:20.821014Z",
     "start_time": "2025-07-12T06:56:20.817180Z"
    }
   },
   "cell_type": "code",
   "source": "tokenizer_gpt2.decode(re)",
   "id": "88f73e9993a9db3c",
   "outputs": [
    {
     "data": {
      "text/plain": [
       "'At dawn, the golden sun rises slowly, painting the sea in shades of orange and red. White waves gently lap against the sandy shore, while seagulls circle and cry in the morning light. A fresh sea breeze carrying the scent of salt brushes against the face, marking the start of a new day.'"
      ]
     },
     "execution_count": 65,
     "metadata": {},
     "output_type": "execute_result"
    }
   ],
   "execution_count": 65
  },
  {
   "metadata": {
    "ExecuteTime": {
     "end_time": "2025-07-12T06:56:22.779565Z",
     "start_time": "2025-07-12T06:56:22.775149Z"
    }
   },
   "cell_type": "code",
   "source": [
    "for i in tokenizer_gpt2.tokenize(text_en):\n",
    "    print(i)"
   ],
   "id": "1066d3701fc6a097",
   "outputs": [
    {
     "name": "stdout",
     "output_type": "stream",
     "text": [
      "At\n",
      "Ġdawn\n",
      ",\n",
      "Ġthe\n",
      "Ġgolden\n",
      "Ġsun\n",
      "Ġrises\n",
      "Ġslowly\n",
      ",\n",
      "Ġpainting\n",
      "Ġthe\n",
      "Ġsea\n",
      "Ġin\n",
      "Ġshades\n",
      "Ġof\n",
      "Ġorange\n",
      "Ġand\n",
      "Ġred\n",
      ".\n",
      "ĠWhite\n",
      "Ġwaves\n",
      "Ġgently\n",
      "Ġlap\n",
      "Ġagainst\n",
      "Ġthe\n",
      "Ġsandy\n",
      "Ġshore\n",
      ",\n",
      "Ġwhile\n",
      "Ġse\n",
      "ag\n",
      "ull\n",
      "s\n",
      "Ġcircle\n",
      "Ġand\n",
      "Ġcry\n",
      "Ġin\n",
      "Ġthe\n",
      "Ġmorning\n",
      "Ġlight\n",
      ".\n",
      "ĠA\n",
      "Ġfresh\n",
      "Ġsea\n",
      "Ġbreeze\n",
      "Ġcarrying\n",
      "Ġthe\n",
      "Ġscent\n",
      "Ġof\n",
      "Ġsalt\n",
      "Ġbrushes\n",
      "Ġagainst\n",
      "Ġthe\n",
      "Ġface\n",
      ",\n",
      "Ġmarking\n",
      "Ġthe\n",
      "Ġstart\n",
      "Ġof\n",
      "Ġa\n",
      "Ġnew\n",
      "Ġday\n",
      ".\n"
     ]
    }
   ],
   "execution_count": 66
  },
  {
   "metadata": {
    "ExecuteTime": {
     "end_time": "2025-07-12T06:57:45.371800Z",
     "start_time": "2025-07-12T06:57:45.367869Z"
    }
   },
   "cell_type": "code",
   "source": [
    "def get_token_stats(tokenizer):\n",
    "    str_stats={}\n",
    "    token_stats={}\n",
    "    for (k,v) in text.items():\n",
    "       str_stats[k]=len(v.split()) if k != 'zh' else len(v)\n",
    "       token_stats[k]=len(tokenizer.encode(v))\n",
    "    return str_stats,token_stats"
   ],
   "id": "c72bd1b170085a65",
   "outputs": [],
   "execution_count": 77
  },
  {
   "metadata": {
    "ExecuteTime": {
     "end_time": "2025-07-12T06:57:46.943023Z",
     "start_time": "2025-07-12T06:57:46.925481Z"
    }
   },
   "cell_type": "code",
   "source": "get_token_stats(tokenizer_gpt2)",
   "id": "b2c2043d7c0fc2c",
   "outputs": [
    {
     "data": {
      "text/plain": [
       "({'fr': 54, 'en': 53, 'zh': 71}, {'fr': 131, 'en': 63, 'zh': 157})"
      ]
     },
     "execution_count": 78,
     "metadata": {},
     "output_type": "execute_result"
    }
   ],
   "execution_count": 78
  },
  {
   "metadata": {
    "ExecuteTime": {
     "end_time": "2025-07-12T07:08:39.752103Z",
     "start_time": "2025-07-12T07:08:39.748658Z"
    }
   },
   "cell_type": "code",
   "source": [
    "def draw_bar(str_stats,token_stats):\n",
    "    fig=plt.figure(figsize=(6,6),dpi=80)\n",
    "    plt.rcParams['font.sans-serif']=['SimHei']\n",
    "    plt.rcParams.update({'font.size': 13})\n",
    "    bar_width=0.1\n",
    "    base=range(len(str_stats))\n",
    "    br_str=[x-bar_width for x in base]\n",
    "    br_token=[x+bar_width for x in base]\n",
    "    plt.bar(br_str,str_stats.values(),color='g',width=bar_width,label='文本长度')\n",
    "    plt.bar(br_token,token_stats.values(),color='b',width=bar_width,label='分词长度')\n",
    "    plt.xticks([r for r in base],str_stats.keys(),fontsize=18)\n",
    "    plt.legend()\n",
    "    return fig"
   ],
   "id": "46e219acc137d317",
   "outputs": [],
   "execution_count": 88
  },
  {
   "metadata": {
    "ExecuteTime": {
     "end_time": "2025-07-12T07:08:41.880455Z",
     "start_time": "2025-07-12T07:08:41.751660Z"
    }
   },
   "cell_type": "code",
   "source": "draw_bar(*get_token_stats(tokenizer_gpt2))",
   "id": "b81714d6179c2aee",
   "outputs": [
    {
     "data": {
      "text/plain": [
       "<Figure size 480x480 with 1 Axes>"
      ],
      "image/png": "[encoded data removed]"
     },
     "execution_count": 89,
     "metadata": {},
     "output_type": "execute_result"
    },
    {
     "data": {
      "text/plain": [
       "<Figure size 480x480 with 1 Axes>"
      ],
      "image/png": "[encoded data removed]"
     },
     "metadata": {},
     "output_type": "display_data"
    }
   ],
   "execution_count": 89
  },
  {
   "metadata": {
    "ExecuteTime": {
     "end_time": "2025-07-12T07:13:43.946473Z",
     "start_time": "2025-07-12T07:13:37.992328Z"
    }
   },
   "cell_type": "code",
   "source": [
    "from datasets import load_dataset\n",
    "data=load_dataset(\"BelleGroup/train_0.5M_CN\")\n",
    "print(data[\"train\"][1])"
   ],
   "id": "e4ed05979e925ca4",
   "outputs": [
    {
     "name": "stdout",
     "output_type": "stream",
     "text": [
      "{'instruction': '给定一个文字输入，将其中的所有数字加1。\\n“明天的会议在9点开始，记得准时到达。”\\n', 'input': '', 'output': '“明天的会议在10点开始，记得准时到达。”'}\n"
     ]
    }
   ],
   "execution_count": 91
  },
  {
   "metadata": {
    "ExecuteTime": {
     "end_time": "2025-07-12T07:56:15.526729Z",
     "start_time": "2025-07-12T07:56:15.520781Z"
    }
   },
   "cell_type": "code",
   "source": [
    "def get_training_corpus():\n",
    "    d=data[\"train\"].select(range(10000))\n",
    "    batch_size=1000\n",
    "    for i in range(0,len(d),batch_size):\n",
    "        samples=d[i:i+batch_size]\n",
    "        yield samples.get(\"instruction\",[])"
   ],
   "id": "66cf00f90023677b",
   "outputs": [],
   "execution_count": 93
  },
  {
   "metadata": {
    "ExecuteTime": {
     "end_time": "2025-07-12T07:57:00.509505Z",
     "start_time": "2025-07-12T07:56:59.435725Z"
    }
   },
   "cell_type": "code",
   "source": [
    "tokenizer_zh=tokenizer_gpt2.train_new_from_iterator(get_training_corpus(),800)\n",
    "\"_\".join([tokenizer_zh.decode(i) for i in tokenizer_zh.encode(text_zh)])"
   ],
   "id": "bacae7eaf0dea7d4",
   "outputs": [
    {
     "data": {
      "text/plain": [
       "'�_�_�_明_时_分_，_�_�_色_的_�_�_�_�_�_�_�_�_�_�_起_，_将_�_�_面_�_�_成_一_�_�_�_�_�_�_�_。_�_�_�_色_的_�_�_�_�_�_�_�_�_�_�_�_�_着_�_�_�_�_�_，_�_�_�_�_�_在_�_�_�_�_中_�_�_�_�_�_�_�_�_�_。_�_�_新_的_�_�_�_�_�_�_着_�_�_�_�_�_�_过_�_�_�_�_�_，_新_的_一_天_开_�_�_了_。'"
      ]
     },
     "execution_count": 95,
     "metadata": {},
     "output_type": "execute_result"
    }
   ],
   "execution_count": 95
  },
  {
   "metadata": {
    "ExecuteTime": {
     "end_time": "2025-07-12T07:57:01.923909Z",
     "start_time": "2025-07-12T07:57:01.680974Z"
    }
   },
   "cell_type": "code",
   "source": "draw_bar(*get_token_stats(tokenizer_zh))",
   "id": "4a66a8a5845ec195",
   "outputs": [
    {
     "data": {
      "text/plain": [
       "<Figure size 480x480 with 1 Axes>"
      ],
      "image/png": "[encoded data removed]"
     },
     "execution_count": 96,
     "metadata": {},
     "output_type": "execute_result"
    },
    {
     "data": {
      "text/plain": [
       "<Figure size 480x480 with 1 Axes>"
      ],
      "image/png": "[encoded data removed]"
     },
     "metadata": {},
     "output_type": "display_data"
    }
   ],
   "execution_count": 96
  }
 ],
 "metadata": {
  "kernelspec": {
   "display_name": "Python 3",
   "language": "python",
   "name": "python3"
  },
  "language_info": {
   "codemirror_mode": {
    "name": "ipython",
    "version": 2
   },
   "file_extension": ".py",
   "mimetype": "text/x-python",
   "name": "python",
   "nbconvert_exporter": "python",
   "pygments_lexer": "ipython2",
   "version": "2.7.6"
  }
 },
 "nbformat": 4,
 "nbformat_minor": 5
}
