{
 "cells": [
  {
   "cell_type": "code",
   "id": "initial_id",
   "metadata": {
    "collapsed": true,
    "ExecuteTime": {
     "end_time": "2025-07-20T01:32:23.128769Z",
     "start_time": "2025-07-20T01:32:23.124936Z"
    }
   },
   "source": [
    "import numpy as np\n",
    "#判断矩阵\n",
    "A=np.array([[1,2,3,5],[1/2,1,1/2,2],[1/3,2,1,2],[1/5,1/2,1/2,1]])\n",
    "print(A)\n",
    "n=A.shape[0]\n",
    "print(n)"
   ],
   "outputs": [
    {
     "name": "stdout",
     "output_type": "stream",
     "text": [
      "[[1.         2.         3.         5.        ]\n",
      " [0.5        1.         0.5        2.        ]\n",
      " [0.33333333 2.         1.         2.        ]\n",
      " [0.2        0.5        0.5        1.        ]]\n",
      "4\n"
     ]
    }
   ],
   "execution_count": 8
  },
  {
   "metadata": {
    "ExecuteTime": {
     "end_time": "2025-07-20T01:37:31.114929Z",
     "start_time": "2025-07-20T01:37:31.110671Z"
    }
   },
   "cell_type": "code",
   "source": [
    "#求出最大特征值以及对应的特征向量\n",
    "eig_val,eig_vec=np.linalg.eig(A)\n",
    "print(eig_val)\n",
    "print(eig_vec)"
   ],
   "id": "678c443aaf120bcc",
   "outputs": [
    {
     "name": "stdout",
     "output_type": "stream",
     "text": [
      "[ 4.11283004+0.j         -0.06510522+0.67976113j -0.06510522-0.67976113j\n",
      "  0.01738039+0.j        ]\n",
      "[[ 0.84869741+0.j          0.81061718+0.j          0.81061718-0.j\n",
      "  -0.93329324+0.j        ]\n",
      " [ 0.30763892+0.j         -0.18477808-0.292718j   -0.18477808+0.292718j\n",
      "  -0.07585913+0.j        ]\n",
      " [ 0.39621458+0.j         -0.26858914+0.38344901j -0.26858914-0.38344901j\n",
      "  -0.16238727+0.j        ]\n",
      " [ 0.16758584+0.j          0.0623862 -0.00277699j  0.0623862 +0.00277699j\n",
      "   0.31119046+0.j        ]]\n"
     ]
    }
   ],
   "execution_count": 10
  },
  {
   "metadata": {
    "ExecuteTime": {
     "end_time": "2025-07-20T01:38:14.939122Z",
     "start_time": "2025-07-20T01:38:14.934443Z"
    }
   },
   "cell_type": "code",
   "source": [
    "#求出最大特征值\n",
    "max_eig_val=max(eig_val)\n",
    "print(max_eig_val)\n",
    "#一致性指标\n",
    "CI=(max_eig_val-n)/(n-1)\n",
    "print(CI)\n",
    "#对应的平均随机一致性指标\n",
    "RI=[0,0,0.58,0.9,1.12,1.24,1.32,1.41,1.45,1.49,1.51,1.48,1.56,1.57,1.59]\n",
    "#一致性比例\n",
    "CR=CI/RI[n-1]\n",
    "print(CR)\n",
    "if CR<0.1:\n",
    "  print(\"判断矩阵A的通过一致性检验\")\n",
    "else:\n",
    "  print(\"判断矩阵A的未通过一致性检验\")"
   ],
   "id": "549553eefffa4ffe",
   "outputs": [
    {
     "name": "stdout",
     "output_type": "stream",
     "text": [
      "(4.112830038192147+0j)\n",
      "(0.03761001273071566+0j)\n",
      "(0.041788903034128515+0j)\n",
      "判断矩阵A的通过一致性检验\n"
     ]
    }
   ],
   "execution_count": 11
  },
  {
   "metadata": {},
   "cell_type": "markdown",
   "source": [
    "计算权重\n",
    "三种方法:算术平均法、几何平均法、特征值法"
   ],
   "id": "541bfd75c6de3ed6"
  },
  {
   "metadata": {
    "ExecuteTime": {
     "end_time": "2025-07-20T01:44:18.006260Z",
     "start_time": "2025-07-20T01:44:17.992740Z"
    }
   },
   "cell_type": "code",
   "source": [
    "#算术平均法\n",
    "#首先计算每列的和\n",
    "#axis=0表示沿着行的方向进行求和，axis=1表示沿着列的方向进行求和\n",
    "A_sum=np.sum(A,axis=0)\n",
    "Stand_A=A/A_sum\n",
    "#各列加到同一行\n",
    "A_sumr=np.sum(Stand_A,axis=1)\n",
    "#计算权重向量\n",
    "weights=A_sumr/n\n",
    "print(weights)"
   ],
   "id": "345a8493cbc24cf9",
   "outputs": [
    {
     "name": "stdout",
     "output_type": "stream",
     "text": [
      "[0.48885991 0.18192996 0.2318927  0.09731744]\n"
     ]
    }
   ],
   "execution_count": 12
  },
  {
   "metadata": {
    "ExecuteTime": {
     "end_time": "2025-07-20T01:51:46.400871Z",
     "start_time": "2025-07-20T01:51:46.396842Z"
    }
   },
   "cell_type": "code",
   "source": [
    "#几何平均法\n",
    "#将A中每一行元素相乘得到一列向量\n",
    "#np.prod函数可以计算一维数组中所有元素的乘积\n",
    "#axis=0表示沿着行的方向进行求乘，axis=1表示沿着列的方向进行求乘\n",
    "A_prod=np.prod(A,axis=1)\n",
    "#将新的向量的每个分量开n次方等价求1/n次方\n",
    "#np.power(a,b)对数组a中的每个元素都按照b指数进行运算\n",
    "A_prod_n=np.power(A_prod,1/n)\n",
    "#归一化处理\n",
    "A_prod_re=A_prod_n/np.sum(A_prod_n)\n",
    "print(A_prod_re)"
   ],
   "id": "e42fcc9e7bd2f9e6",
   "outputs": [
    {
     "name": "stdout",
     "output_type": "stream",
     "text": [
      "[0.49492567 0.17782883 0.22724501 0.1000005 ]\n"
     ]
    }
   ],
   "execution_count": 19
  },
  {
   "metadata": {
    "ExecuteTime": {
     "end_time": "2025-07-20T01:56:09.634231Z",
     "start_time": "2025-07-20T01:56:09.621639Z"
    }
   },
   "cell_type": "code",
   "source": [
    "#特征值法\n",
    "#特征值和特征向量\n",
    "eig_val,eig_vec=np.linalg.eig(A)\n",
    "#找到最大特征值的索引\n",
    "max_index=np.argmax(eig_val)\n",
    "#知道对应的特征向量\n",
    "max_eig_vec=eig_vec[:,max_index]\n",
    "#归一化处理\n",
    "weights=max_eig_vec/np.sum(max_eig_vec)\n",
    "print(weights)"
   ],
   "id": "853fb7d31a26ba46",
   "outputs": [
    {
     "name": "stdout",
     "output_type": "stream",
     "text": [
      "[0.4933895 +0.j 0.17884562+0.j 0.230339  +0.j 0.09742588+0.j]\n"
     ]
    }
   ],
   "execution_count": 20
  }
 ],
 "metadata": {
  "kernelspec": {
   "display_name": "Python 3",
   "language": "python",
   "name": "python3"
  },
  "language_info": {
   "codemirror_mode": {
    "name": "ipython",
    "version": 2
   },
   "file_extension": ".py",
   "mimetype": "text/x-python",
   "name": "python",
   "nbconvert_exporter": "python",
   "pygments_lexer": "ipython2",
   "version": "2.7.6"
  }
 },
 "nbformat": 4,
 "nbformat_minor": 5
}
