{
 "cells": [
  {
   "metadata": {},
   "cell_type": "markdown",
   "source": [
    "正样本处理\n",
    "裁剪行人区域至统一尺寸（64*128），居中对齐"
   ],
   "id": "74491f483827ffa1"
  },
  {
   "metadata": {},
   "cell_type": "code",
   "source": [
    "import cv2\n",
    "import os\n",
    "\n",
    "from sympy.codegen.ast import continue_\n",
    "from torch_geometric.typing import weight\n",
    "\n",
    "current_dir=os.getcwd()\n",
    "print(current_dir)\n",
    "\n",
    "# 定义一个函数，用于处理正样本图片\n",
    "def process_positive_images(src_dir,dst_dir,img_size=(64,128)):\n",
    "    # 创建目标文件夹\n",
    "    os.makedirs(dst_dir,exist_ok=True)\n",
    "    # 遍历源文件夹中的所有文件\n",
    "    for filename in os.listdir(src_dir):\n",
    "        # 获取图片路径\n",
    "        img_path=os.path.join(src_dir,filename)\n",
    "        # 读取图片\n",
    "        img=cv2.imread(img_path)\n",
    "        # 如果图片为空，则跳过\n",
    "        if img is None:\n",
    "            continue\n",
    "        # 获取图片的高度和宽度\n",
    "        h,w=img.shape[:2]\n",
    "        # 获取裁剪的高度和宽度\n",
    "        crop_h,crop_w=img_size\n",
    "        # 计算裁剪的起始高度和宽度\n",
    "        start_h=max(0,(h-crop_h)//2)\n",
    "        start_w=max(0,(w-crop_w)//2)\n",
    "        # 裁剪图片\n",
    "        cropped=img[start_h:start_h+crop_h,start_w:start_w+crop_w]\n",
    "        # 将裁剪后的图片保存到目标文件夹中\n",
    "        cv2.imwrite(os.path.join(dst_dir,filename),cropped)\n",
    "\n",
    "process_positive_images(\"./train/pos\", \"./Train/pos64x128\", img_size=(64, 128))"
   ],
   "id": "8c2ce8befb8b1efe",
   "outputs": [],
   "execution_count": null
  },
  {
   "metadata": {},
   "cell_type": "markdown",
   "source": [
    "负样本增强\n",
    "从背景图像中随机裁剪10个非重叠区域，扩充负样本数量"
   ],
   "id": "b8186ad6de4a9f6"
  },
  {
   "metadata": {},
   "cell_type": "code",
   "source": [
    "import random\n",
    "\n",
    "def process_negative_images(src_dir,dst_dir,img_size=(64,128),random_num=10):\n",
    "    # 创建目标目录\n",
    "    os.makedirs(dst_dir,exist_ok=True)\n",
    "    idx=0\n",
    "    # 遍历源目录中的所有文件\n",
    "    for filename in os.listdir(src_dir):\n",
    "        img_path=os.path.join(src_dir,filename)\n",
    "        # 读取图片\n",
    "        img=cv2.imread(img_path)\n",
    "        # 如果图片读取失败，则跳过\n",
    "        if img is None:\n",
    "            continue\n",
    "        # 获取图片的高度和宽度\n",
    "        h,w=img.shape[:2]\n",
    "        # 获取裁剪的高度和宽度\n",
    "        crop_h,crop_w=img_size\n",
    "        # 如果图片的高度或宽度小于裁剪的高度或宽度，则跳过\n",
    "        if h<crop_h or w<crop_w:\n",
    "            continue\n",
    "        # 随机裁剪图片\n",
    "        for _ in range(random_num):\n",
    "            # 随机生成裁剪的起始位置\n",
    "            start_h=random.randint(0,h-crop_h)\n",
    "            start_w=random.randint(0,w-crop_w)\n",
    "            # 裁剪图片\n",
    "            cropped=img[start_h:start_h+crop_h,start_w:start_w+crop_w]\n",
    "            # 保存裁剪后的图片\n",
    "            cv2.imwrite(os.path.join(dst_dir,f\"{idx}.jpg\"),cropped)\n",
    "            idx+=1\n",
    "\n",
    "process_negative_images(\"./train/neg\", \"./Train/neg64x128\", img_size=(64, 128),random_num=10)"
   ],
   "id": "f96f8613b855f208",
   "outputs": [],
   "execution_count": null
  },
  {
   "metadata": {},
   "cell_type": "markdown",
   "source": [
    "直接调用OpenCv内置的HOG+SVM\n",
    "这里要注意opencv的版本，低版本没有检测路人的模块\n"
   ],
   "id": "ddab43de02051bdc"
  },
  {
   "metadata": {
    "ExecuteTime": {
     "end_time": "2025-07-31T02:39:07.014596Z",
     "start_time": "2025-07-31T02:38:35.486590Z"
    }
   },
   "cell_type": "code",
   "source": [
    "import cv2\n",
    "\n",
    "print(cv2.__version__)\n",
    "def detect_persons_hog_svm(image_path):\n",
    "    hog=cv2.HOGDescriptor()\n",
    "    hog.setSVMDetector(cv2.HOGDescriptor_getDefaultPeopleDetector())\n",
    "\n",
    "    #读取照片\n",
    "    img=cv2.imread(image_path)\n",
    "    if img is None:\n",
    "        raise ValueError(\"无法读取图片\")\n",
    "    rects,weights=hog.detectMultiScale(\n",
    "        img,\n",
    "        winStride=(4,4),\n",
    "        padding=(8,8),\n",
    "        scale=1.05\n",
    "    )\n",
    "    for (x,y,w,h) in rects:\n",
    "        cv2.rectangle(img,(x,y),(x+w,y+h),(0,255,0),2)\n",
    "    cv2.imshow(\"img\",img)\n",
    "    cv2.waitKey(0)\n",
    "detect_persons_hog_svm(\"./1.jpg\")"
   ],
   "id": "f1e6e5030b57ab57",
   "outputs": [
    {
     "name": "stdout",
     "output_type": "stream",
     "text": [
      "4.12.0\n"
     ]
    }
   ],
   "execution_count": 45
  }
 ],
 "metadata": {
  "kernelspec": {
   "display_name": "Python 3",
   "language": "python",
   "name": "python3"
  },
  "language_info": {
   "codemirror_mode": {
    "name": "ipython",
    "version": 2
   },
   "file_extension": ".py",
   "mimetype": "text/x-python",
   "name": "python",
   "nbconvert_exporter": "python",
   "pygments_lexer": "ipython2",
   "version": "2.7.6"
  }
 },
 "nbformat": 4,
 "nbformat_minor": 5
}
